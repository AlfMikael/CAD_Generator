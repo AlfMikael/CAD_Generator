{
 "cells": [
  {
   "cell_type": "code",
   "execution_count": 3,
   "id": "1b928b14",
   "metadata": {},
   "outputs": [],
   "source": [
    "import numpy as np\n",
    "import cadquery as cq"
   ]
  },
  {
   "cell_type": "code",
   "execution_count": 7,
   "id": "97c75e67",
   "metadata": {},
   "outputs": [
    {
     "data": {
      "text/plain": [
       "<cadquery.sketch.Sketch at 0x22ee032e880>"
      ]
     },
     "metadata": {},
     "output_type": "display_data"
    }
   ],
   "source": [
    "\n",
    "result = (\n",
    "    cq.Sketch()\n",
    "    .trapezoid(4, 3, 90)\n",
    "    .vertices()\n",
    "    .circle(0.5, mode=\"s\")\n",
    "    .reset()\n",
    "    .vertices()\n",
    "    .fillet(0.25)\n",
    "    .reset()\n",
    "    .rarray(0.6, 1, 5, 1)\n",
    "    .slot(1.5, 0.4, mode=\"s\", angle=90)\n",
    ")\n",
    "display(result)"
   ]
  },
  {
   "cell_type": "raw",
   "id": "35316a0a",
   "metadata": {},
   "source": [
    "res = cq.Workplane(\"XY\")\n",
    "\"hey\"._"
   ]
  },
  {
   "cell_type": "code",
   "execution_count": 5,
   "id": "063c018c",
   "metadata": {},
   "outputs": [
    {
     "name": "stdout",
     "output_type": "stream",
     "text": [
      "hello\n"
     ]
    }
   ],
   "source": [
    "print(\"hello\")"
   ]
  },
  {
   "cell_type": "code",
   "execution_count": null,
   "id": "efdd36b4",
   "metadata": {},
   "outputs": [],
   "source": [
    "from pprint import pprint\n",
    "\"hei\"."
   ]
  }
 ],
 "metadata": {
  "kernelspec": {
   "display_name": "Python 3 (ipykernel)",
   "language": "python",
   "name": "python3"
  },
  "language_info": {
   "codemirror_mode": {
    "name": "ipython",
    "version": 3
   },
   "file_extension": ".py",
   "mimetype": "text/x-python",
   "name": "python",
   "nbconvert_exporter": "python",
   "pygments_lexer": "ipython3",
   "version": "3.9.6"
  }
 },
 "nbformat": 4,
 "nbformat_minor": 5
}
