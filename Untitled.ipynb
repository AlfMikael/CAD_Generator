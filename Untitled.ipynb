{
 "cells": [
  {
   "cell_type": "code",
   "execution_count": 2,
   "id": "1b928b14",
   "metadata": {},
   "outputs": [],
   "source": [
    "import numpy as np\n",
    "import cadquery as cq"
   ]
  },
  {
   "cell_type": "code",
   "execution_count": 3,
   "id": "97c75e67",
   "metadata": {},
   "outputs": [],
   "source": [
    "\n",
    "result = (\n",
    "    cq.Sketch()\n",
    "    .trapezoid(4, 3, 90)\n",
    "    .vertices()\n",
    "    .circle(0.5, mode=\"s\")\n",
    "    .reset()\n",
    "    .vertices()\n",
    "    .fillet(0.25)\n",
    "    .reset()\n",
    "    .rarray(0.6, 1, 5, 1)\n",
    "    .slot(1.5, 0.4, mode=\"s\", angle=90)\n",
    ")"
   ]
  },
  {
   "cell_type": "code",
   "execution_count": null,
   "id": "301bc8f4",
   "metadata": {},
   "outputs": [],
   "source": []
  }
 ],
 "metadata": {
  "kernelspec": {
   "display_name": "Python 3 (ipykernel)",
   "language": "python",
   "name": "python3"
  },
  "language_info": {
   "codemirror_mode": {
    "name": "ipython",
    "version": 3
   },
   "file_extension": ".py",
   "mimetype": "text/x-python",
   "name": "python",
   "nbconvert_exporter": "python",
   "pygments_lexer": "ipython3",
   "version": "3.9.6"
  }
 },
 "nbformat": 4,
 "nbformat_minor": 5
}
